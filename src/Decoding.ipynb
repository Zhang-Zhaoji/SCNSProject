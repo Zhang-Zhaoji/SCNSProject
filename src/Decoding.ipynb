{
 "cells": [
  {
   "cell_type": "code",
   "execution_count": 1,
   "id": "c2c4dd8b",
   "metadata": {},
   "outputs": [
    {
     "name": "stderr",
     "output_type": "stream",
     "text": [
      "e:\\miniconda\\conda\\envs\\SCNS\\lib\\site-packages\\oasis\\functions.py:13: UserWarning: Could not find cvxpy. Don't worry, you can still use OASIS, just not the slower interior point methods we compared to in the papers.\n",
      "  warn(\"Could not find cvxpy. Don't worry, you can still use OASIS, \" +\n"
     ]
    }
   ],
   "source": [
    "import numpy as np\n",
    "import os\n",
    "import pandas as pd\n",
    "import matplotlib.pyplot as plt\n",
    "import scipy.stats\n",
    "import seaborn as sns\n",
    "from matplotlib.cm import ScalarMappable\n",
    "from matplotlib.colors import Normalize\n",
    "from scipy.stats import f_oneway\n",
    "from collections import defaultdict\n",
    "from load_data import load_data,get_SG_FR, similarity_metric, read_Decoding_csv, load_neural_npz\n",
    "from dataset import LinearRegressionModel, NeuralDataset"
   ]
  },
  {
   "cell_type": "code",
   "execution_count": 2,
   "id": "71d8e39f",
   "metadata": {},
   "outputs": [
    {
     "name": "stdout",
     "output_type": "stream",
     "text": [
      "we have keys in data_dict, including:\n",
      "stimulus_metadata_drifting_gratings.csv\n",
      "stimulus_metadata_natural_movie_one.csv\n",
      "stimulus_metadata_natural_movie_three.csv\n",
      "stimulus_metadata_spontaneous.csv\n",
      "we have keys in data_dict, including:\n",
      "stimulus_metadata_natural_movie_one.csv\n",
      "stimulus_metadata_natural_scenes.csv\n",
      "stimulus_metadata_spontaneous.csv\n",
      "stimulus_metadata_static_gratings.csv\n",
      "stimulus_metadata_total.csv\n",
      "================================================\n",
      "['VISp_three_session_A_501704220', 'VISp_three_session_B_501559087']\n",
      "check subtitles, should be ['ts', 'dff', 'all_roi_masks', 'cids', 'metadata']\n",
      "['ts', 'dff', 'all_roi_masks', 'cids', 'metadata']\n",
      "================================================\n",
      "Caution, the position of this file is about the brain part of VISp\n",
      "================================================\n",
      "check subtitles, should be ['ts', 'dff', 'all_roi_masks', 'cids', 'metadata']\n",
      "['ts', 'dff', 'all_roi_masks', 'cids', 'metadata']\n",
      "================================================\n",
      "Caution, the position of this file is about the brain part of VISp\n",
      "================================================\n",
      "================================================\n"
     ]
    }
   ],
   "source": [
    "# load data\n",
    "Target_Brain_region = 'VISp'\n",
    "data_root = '../data'\n",
    "sessions = ['A','B']\n",
    "session_datas = []\n",
    "session_folders = [] \n",
    "for session in sessions:\n",
    "    tgt_dict, tgt_folder = read_Decoding_csv(data_path='../data',region_type = Target_Brain_region, session_letter = session)\n",
    "    session_datas.append(tgt_dict)\n",
    "    session_folders.append(tgt_folder)\n",
    "print('================================================')\n",
    "print(session_folders)\n",
    "ts_sessions = []\n",
    "dff_sessions = []\n",
    "all_roi_masks_sessions = []\n",
    "cids_sessions = []\n",
    "metadata_sessions = []\n",
    "\n",
    "for tgt_data_path in session_folders:\n",
    "    for file_name in os.listdir(os.path.join(data_root, tgt_data_path)):\n",
    "        if file_name.endswith('.npz'):\n",
    "            ts, dff, all_roi_masks, cids, metadata = load_neural_npz(os.path.join(data_root, tgt_data_path,file_name))\n",
    "            ts_sessions.append(ts)\n",
    "            dff_sessions.append(dff)\n",
    "            all_roi_masks_sessions.append(all_roi_masks)\n",
    "            cids_sessions.append(cids)\n",
    "            metadata_sessions.append(metadata)\n",
    "            \n",
    "            position = metadata.tolist()\n",
    "            print('================================================')\n",
    "            print('Caution, the position of this file is about the brain part of', position['targeted_structure'])\n",
    "            print('================================================')\n",
    "print('================================================')"
   ]
  },
  {
   "cell_type": "code",
   "execution_count": 3,
   "id": "38363b9a",
   "metadata": {},
   "outputs": [
    {
     "name": "stdout",
     "output_type": "stream",
     "text": [
      "\n"
     ]
    }
   ],
   "source": [
    "print()"
   ]
  }
 ],
 "metadata": {
  "kernelspec": {
   "display_name": "SCNS",
   "language": "python",
   "name": "python3"
  },
  "language_info": {
   "codemirror_mode": {
    "name": "ipython",
    "version": 3
   },
   "file_extension": ".py",
   "mimetype": "text/x-python",
   "name": "python",
   "nbconvert_exporter": "python",
   "pygments_lexer": "ipython3",
   "version": "3.10.16"
  }
 },
 "nbformat": 4,
 "nbformat_minor": 5
}
